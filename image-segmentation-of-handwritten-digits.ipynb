{
 "cells": [
  {
   "cell_type": "code",
   "execution_count": 1,
   "id": "95ca56e8",
   "metadata": {
    "_cell_guid": "b1076dfc-b9ad-4769-8c92-a6c4dae69d19",
    "_uuid": "8f2839f25d086af736a60e9eeb907d3b93b6e0e5",
    "execution": {
     "iopub.execute_input": "2024-10-28T20:31:24.433514Z",
     "iopub.status.busy": "2024-10-28T20:31:24.433124Z",
     "iopub.status.idle": "2024-10-28T20:31:40.530616Z",
     "shell.execute_reply": "2024-10-28T20:31:40.529621Z"
    },
    "papermill": {
     "duration": 16.113504,
     "end_time": "2024-10-28T20:31:40.533605",
     "exception": false,
     "start_time": "2024-10-28T20:31:24.420101",
     "status": "completed"
    },
    "tags": []
   },
   "outputs": [
    {
     "name": "stderr",
     "output_type": "stream",
     "text": [
      "2025-08-09 23:57:43.127745: I tensorflow/core/platform/cpu_feature_guard.cc:182] This TensorFlow binary is optimized to use available CPU instructions in performance-critical operations.\n",
      "To enable the following instructions: AVX2 AVX512F FMA, in other operations, rebuild TensorFlow with the appropriate compiler flags.\n",
      "2025-08-09 23:57:44.389600: W tensorflow/compiler/tf2tensorrt/utils/py_utils.cc:38] TF-TRT Warning: Could not find TensorRT\n"
     ]
    }
   ],
   "source": [
    "import tensorflow as tf\n",
    "import numpy as np\n",
    "import matplotlib.pyplot as plt \n",
    "import os\n",
    "import tensorflow_datasets as tfds \n",
    "from sklearn.model_selection import train_test_split\n",
    "from PIL import Image , ImageDraw , ImageFont"
   ]
  },
  {
   "cell_type": "markdown",
   "id": "8e6c565f",
   "metadata": {
    "papermill": {
     "duration": 0.009996,
     "end_time": "2024-10-28T20:31:40.555545",
     "exception": false,
     "start_time": "2024-10-28T20:31:40.545549",
     "status": "completed"
    },
    "tags": []
   },
   "source": [
    "<img src='https://storage.googleapis.com/tensorflow-3-public/assets/images/m2nist_segmentation.png' alt='m2nist digits'>\n",
    " build a Convolutional Neural Network (CNN) from scratch for the downsampling path and use a Fully Convolutional Network, FCN-8, to upsample and produce the pixel-wise label map. The model will be evaluated using the intersection over union (IOU) and Dice Score. "
   ]
  },
  {
   "cell_type": "code",
   "execution_count": 2,
   "id": "b82414ff",
   "metadata": {
    "execution": {
     "iopub.execute_input": "2024-10-28T20:31:40.578887Z",
     "iopub.status.busy": "2024-10-28T20:31:40.577563Z",
     "iopub.status.idle": "2024-10-28T20:31:40.583240Z",
     "shell.execute_reply": "2024-10-28T20:31:40.582368Z"
    },
    "papermill": {
     "duration": 0.01975,
     "end_time": "2024-10-28T20:31:40.585499",
     "exception": false,
     "start_time": "2024-10-28T20:31:40.565749",
     "status": "completed"
    },
    "tags": []
   },
   "outputs": [],
   "source": [
    "BATCH_SIZE = 32 \n"
   ]
  },
  {
   "cell_type": "code",
   "execution_count": 3,
   "id": "8d777bc3",
   "metadata": {
    "execution": {
     "iopub.execute_input": "2024-10-28T20:31:40.608972Z",
     "iopub.status.busy": "2024-10-28T20:31:40.608117Z",
     "iopub.status.idle": "2024-10-28T20:31:40.615508Z",
     "shell.execute_reply": "2024-10-28T20:31:40.614435Z"
    },
    "papermill": {
     "duration": 0.021449,
     "end_time": "2024-10-28T20:31:40.617931",
     "exception": false,
     "start_time": "2024-10-28T20:31:40.596482",
     "status": "completed"
    },
    "tags": []
   },
   "outputs": [],
   "source": [
    "def ultimate_mapping(image , annotation):\n",
    "\n",
    "    image = tf.cast(image , tf.float32)\n",
    "    image = tf.reshape(image , (image.shape[0] , image.shape[1] , 1 ,))\n",
    "    annotation = tf.cast(annotation ,dtype = tf.int32)\n",
    "    image = image/127.5\n",
    "    image -=1 \n",
    "\n",
    "    return image , annotation"
   ]
  },
  {
   "cell_type": "code",
   "execution_count": 4,
   "id": "4f32fb2d",
   "metadata": {
    "execution": {
     "iopub.execute_input": "2024-10-28T20:31:40.642361Z",
     "iopub.status.busy": "2024-10-28T20:31:40.641511Z",
     "iopub.status.idle": "2024-10-28T20:31:40.648921Z",
     "shell.execute_reply": "2024-10-28T20:31:40.647910Z"
    },
    "papermill": {
     "duration": 0.022272,
     "end_time": "2024-10-28T20:31:40.651061",
     "exception": false,
     "start_time": "2024-10-28T20:31:40.628789",
     "status": "completed"
    },
    "tags": []
   },
   "outputs": [],
   "source": [
    "def get_training_dataset(slices):\n",
    "    images , annos = slices\n",
    "    dataset = tf.data.Dataset.from_tensor_slices((images , annos))\n",
    "    dataset = dataset.map(ultimate_mapping)\n",
    "\n",
    "    dataset = dataset.shuffle(512 ,reshuffle_each_iteration = True)\n",
    "    dataset = dataset.batch(BATCH_SIZE).repeat()\n",
    "    dataset = dataset.prefetch(-1)\n",
    "\n",
    "    return dataset "
   ]
  },
  {
   "cell_type": "code",
   "execution_count": 5,
   "id": "2bdf6909",
   "metadata": {
    "execution": {
     "iopub.execute_input": "2024-10-28T20:31:40.674209Z",
     "iopub.status.busy": "2024-10-28T20:31:40.673353Z",
     "iopub.status.idle": "2024-10-28T20:31:40.679806Z",
     "shell.execute_reply": "2024-10-28T20:31:40.678773Z"
    },
    "papermill": {
     "duration": 0.020155,
     "end_time": "2024-10-28T20:31:40.682039",
     "exception": false,
     "start_time": "2024-10-28T20:31:40.661884",
     "status": "completed"
    },
    "tags": []
   },
   "outputs": [],
   "source": [
    "def get_validation_dataset(slices ):\n",
    "    images , annos = slices \n",
    "    dataset = tf.data.Dataset.from_tensor_slices((images , annos))\n",
    "    dataset = dataset.map(ultimate_mapping)\n",
    "\n",
    "    dataset = dataset.batch(BATCH_SIZE).repeat()\n",
    "    return dataset "
   ]
  },
  {
   "cell_type": "markdown",
   "id": "09b74737",
   "metadata": {
    "papermill": {
     "duration": 0.010545,
     "end_time": "2024-10-28T20:31:40.703330",
     "exception": false,
     "start_time": "2024-10-28T20:31:40.692785",
     "status": "completed"
    },
    "tags": []
   },
   "source": [
    "## Loading and Preprocessing Data\n",
    "\n",
    "1. **combined.npy** has the image files containing the multiple MNIST digits. Each image is of size **64 x 84** (height x width, in pixels).\n",
    "\n",
    "2. **segmented.npy** has the corresponding segmentation masks. Each segmentation mask is also of size **64 x 84**.\n",
    "\n",
    "This dataset has **5000** samples and you can make appropriate training, validation, and test splits as required for the problem."
   ]
  },
  {
   "cell_type": "code",
   "execution_count": 6,
   "id": "28382c00",
   "metadata": {
    "execution": {
     "iopub.execute_input": "2024-10-28T20:31:40.726714Z",
     "iopub.status.busy": "2024-10-28T20:31:40.725806Z",
     "iopub.status.idle": "2024-10-28T20:31:40.732667Z",
     "shell.execute_reply": "2024-10-28T20:31:40.731683Z"
    },
    "papermill": {
     "duration": 0.021046,
     "end_time": "2024-10-28T20:31:40.734842",
     "exception": false,
     "start_time": "2024-10-28T20:31:40.713796",
     "status": "completed"
    },
    "tags": []
   },
   "outputs": [],
   "source": [
    "def get_test_dataset(slices ):\n",
    "    images , annos  = slices\n",
    "    dataset = tf.data.Dataset.from_tensor_slices((images , annos))\n",
    "    dataset =dataset.map(ultimate_mapping)\n",
    "    dataset = dataset.batch(BATCH_SIZE  ,  drop_remainder= True)\n",
    "    return dataset  "
   ]
  },
  {
   "cell_type": "code",
   "execution_count": 7,
   "id": "eecf6f0b",
   "metadata": {
    "execution": {
     "iopub.execute_input": "2024-10-28T20:31:40.757336Z",
     "iopub.status.busy": "2024-10-28T20:31:40.756935Z",
     "iopub.status.idle": "2024-10-28T20:31:40.764452Z",
     "shell.execute_reply": "2024-10-28T20:31:40.763531Z"
    },
    "papermill": {
     "duration": 0.021454,
     "end_time": "2024-10-28T20:31:40.766629",
     "exception": false,
     "start_time": "2024-10-28T20:31:40.745175",
     "status": "completed"
    },
    "tags": []
   },
   "outputs": [],
   "source": [
    "def load_images_and_segments():\n",
    "\n",
    "    images = np.load(\"/root/code/DeepLabV3Plus-Pytorch/data/combined.npy\")\n",
    "    segments =np.load(\"/root/code/DeepLabV3Plus-Pytorch/data/segmented.npy\")\n",
    "\n",
    "    train_images , val_images , train_annos , val_annos = train_test_split(images , segments , test_size = 0.2 , random_state = 42)\n",
    "    val_images , test_images , val_annos , test_annos = train_test_split(val_images , val_annos , test_size= 0.2 , random_state = 42)\n",
    "\n",
    "    return (train_images , train_annos) , (val_images , val_annos) , (test_images , test_annos)\n",
    "    "
   ]
  },
  {
   "cell_type": "code",
   "execution_count": 8,
   "id": "e41b28bd",
   "metadata": {
    "execution": {
     "iopub.execute_input": "2024-10-28T20:31:40.789342Z",
     "iopub.status.busy": "2024-10-28T20:31:40.788534Z",
     "iopub.status.idle": "2024-10-28T20:31:52.038898Z",
     "shell.execute_reply": "2024-10-28T20:31:52.038032Z"
    },
    "papermill": {
     "duration": 11.264641,
     "end_time": "2024-10-28T20:31:52.041482",
     "exception": false,
     "start_time": "2024-10-28T20:31:40.776841",
     "status": "completed"
    },
    "tags": []
   },
   "outputs": [],
   "source": [
    "train_slices , valid_slices , test_slices = load_images_and_segments()"
   ]
  },
  {
   "cell_type": "code",
   "execution_count": 9,
   "id": "4edb7447",
   "metadata": {
    "execution": {
     "iopub.execute_input": "2024-10-28T20:31:52.064017Z",
     "iopub.status.busy": "2024-10-28T20:31:52.063260Z",
     "iopub.status.idle": "2024-10-28T20:31:58.772598Z",
     "shell.execute_reply": "2024-10-28T20:31:58.771526Z"
    },
    "papermill": {
     "duration": 6.723157,
     "end_time": "2024-10-28T20:31:58.775179",
     "exception": false,
     "start_time": "2024-10-28T20:31:52.052022",
     "status": "completed"
    },
    "tags": []
   },
   "outputs": [
    {
     "name": "stderr",
     "output_type": "stream",
     "text": [
      "2025-08-09 23:57:53.065771: I tensorflow/core/common_runtime/gpu/gpu_device.cc:1639] Created device /job:localhost/replica:0/task:0/device:GPU:0 with 31141 MB memory:  -> device: 0, name: Tesla V100-PCIE-32GB, pci bus id: 0000:67:01.0, compute capability: 7.0\n",
      "2025-08-09 23:57:56.204286: W tensorflow/tsl/framework/cpu_allocator_impl.cc:83] Allocation of 1892352000 exceeds 10% of free system memory.\n",
      "2025-08-09 23:57:58.781605: W tensorflow/tsl/framework/cpu_allocator_impl.cc:83] Allocation of 1892352000 exceeds 10% of free system memory.\n",
      "2025-08-09 23:58:02.416028: W tensorflow/tsl/framework/cpu_allocator_impl.cc:83] Allocation of 378470400 exceeds 10% of free system memory.\n",
      "2025-08-09 23:58:03.043100: W tensorflow/tsl/framework/cpu_allocator_impl.cc:83] Allocation of 378470400 exceeds 10% of free system memory.\n"
     ]
    }
   ],
   "source": [
    "train_dataset = get_training_dataset(train_slices)\n",
    "test_dataset = get_test_dataset(test_slices)\n",
    "valid_dataset = get_validation_dataset(valid_slices)"
   ]
  },
  {
   "cell_type": "code",
   "execution_count": 10,
   "id": "62d8fab4",
   "metadata": {
    "execution": {
     "iopub.execute_input": "2024-10-28T20:31:58.798470Z",
     "iopub.status.busy": "2024-10-28T20:31:58.798071Z",
     "iopub.status.idle": "2024-10-28T20:31:58.803865Z",
     "shell.execute_reply": "2024-10-28T20:31:58.803055Z"
    },
    "papermill": {
     "duration": 0.019798,
     "end_time": "2024-10-28T20:31:58.805911",
     "exception": false,
     "start_time": "2024-10-28T20:31:58.786113",
     "status": "completed"
    },
    "tags": []
   },
   "outputs": [],
   "source": [
    "n_classes = 11 # 0-9 + background class \n",
    "\n",
    "colors = [tuple(np.random.randint(256 , size = 3 )/255.0) for i in range(n_classes)]"
   ]
  },
  {
   "cell_type": "code",
   "execution_count": 11,
   "id": "130476ea",
   "metadata": {
    "execution": {
     "iopub.execute_input": "2024-10-28T20:31:58.829022Z",
     "iopub.status.busy": "2024-10-28T20:31:58.828664Z",
     "iopub.status.idle": "2024-10-28T20:31:58.835524Z",
     "shell.execute_reply": "2024-10-28T20:31:58.834500Z"
    },
    "papermill": {
     "duration": 0.021062,
     "end_time": "2024-10-28T20:31:58.837749",
     "exception": false,
     "start_time": "2024-10-28T20:31:58.816687",
     "status": "completed"
    },
    "tags": []
   },
   "outputs": [],
   "source": [
    "\n",
    "def fuse_with_pil(images):\n",
    "    widths =(image.shape[1] for image in images)\n",
    "    heights = (image.shape[0] for image in images)\n",
    "    total_width = sum(widths)\n",
    "    total_heights = sum(heights)\n",
    "\n",
    "    new_img = Image.new(\"RGB\" , (total_width , total_heights))\n",
    "\n",
    "    x_offset = 0 \n",
    "    for im in images:\n",
    "        pil_img = Image.fromarray(np.uint8(im))\n",
    "        new_img.paste(pil_img , (x_offset , 0))\n",
    "        x_offset+=im.shape[1]\n",
    "    return new_img"
   ]
  },
  {
   "cell_type": "code",
   "execution_count": 12,
   "id": "fdba6d5c",
   "metadata": {
    "execution": {
     "iopub.execute_input": "2024-10-28T20:31:58.859812Z",
     "iopub.status.busy": "2024-10-28T20:31:58.859397Z",
     "iopub.status.idle": "2024-10-28T20:31:58.866349Z",
     "shell.execute_reply": "2024-10-28T20:31:58.865304Z"
    },
    "papermill": {
     "duration": 0.020412,
     "end_time": "2024-10-28T20:31:58.868523",
     "exception": false,
     "start_time": "2024-10-28T20:31:58.848111",
     "status": "completed"
    },
    "tags": []
   },
   "outputs": [],
   "source": [
    "def give_color_to_annotation(annotation):\n",
    "\n",
    "    seg_img = np.zeros((annotation.shape[0] , annotation.shape[1] , 3)  ).astype(\"float32\")\n",
    "\n",
    " \n",
    "    for c in range(n_classes):\n",
    "        segc = (annotation == c)\n",
    "        seg_img[:,:,0] += segc*( colors[c][0] * 255.0)\n",
    "        seg_img[:,:,1] += segc*( colors[c][1] * 255.0)\n",
    "        seg_img[:,:,2] += segc*( colors[c][2] * 255.0)\n",
    "\n",
    "    return seg_img\n"
   ]
  },
  {
   "cell_type": "code",
   "execution_count": 13,
   "id": "ed1de261",
   "metadata": {
    "execution": {
     "iopub.execute_input": "2024-10-28T20:31:58.890977Z",
     "iopub.status.busy": "2024-10-28T20:31:58.890241Z",
     "iopub.status.idle": "2024-10-28T20:31:58.900989Z",
     "shell.execute_reply": "2024-10-28T20:31:58.899947Z"
    },
    "papermill": {
     "duration": 0.02441,
     "end_time": "2024-10-28T20:31:58.903062",
     "exception": false,
     "start_time": "2024-10-28T20:31:58.878652",
     "status": "completed"
    },
    "tags": []
   },
   "outputs": [],
   "source": [
    "def show_annotation_and_prediction(image, annotation, prediction, iou_list, dice_score_list):\n",
    "    new_ann = np.argmax(annotation, axis=2)\n",
    "    true_img = give_color_to_annotation(new_ann)\n",
    "    pred_img = give_color_to_annotation(prediction)\n",
    "\n",
    "    image = image + 1\n",
    "    image = image * 127.5\n",
    "    image = np.reshape(image, (image.shape[0], image.shape[1],))\n",
    "    image = np.uint8(image)\n",
    "    images = [image, np.uint8(pred_img), np.uint8(true_img)]\n",
    "\n",
    "    metrics_by_id = [(idx, iou, dice_score) for idx, (iou, dice_score) in enumerate(zip(iou_list,\n",
    "                                                                dice_score_list)) if iou > 0.0 and idx < 10]\n",
    "    metrics_by_id.sort(key=lambda tup: tup[1], reverse=True)  \n",
    "\n",
    "    display_string_list = [f\"{idx}: IOU: {iou} Dice Score: {dice_score}\"for idx, iou, dice_score in metrics_by_id]\n",
    "    display_string = \"\\n\".join(display_string_list)\n",
    "\n",
    "    plt.figure(figsize=(15, 4))\n",
    "\n",
    "    for idx, im in enumerate(images):\n",
    "        plt.subplot(1, 3, idx+1)\n",
    "        if idx == 1:\n",
    "            plt.xlabel(display_string)\n",
    "        plt.xticks([])\n",
    "        plt.yticks([])\n",
    "        plt.imshow(im)"
   ]
  },
  {
   "cell_type": "code",
   "execution_count": 14,
   "id": "ff3c583d",
   "metadata": {
    "execution": {
     "iopub.execute_input": "2024-10-28T20:31:58.924677Z",
     "iopub.status.busy": "2024-10-28T20:31:58.924298Z",
     "iopub.status.idle": "2024-10-28T20:31:58.930562Z",
     "shell.execute_reply": "2024-10-28T20:31:58.929605Z"
    },
    "papermill": {
     "duration": 0.01942,
     "end_time": "2024-10-28T20:31:58.932608",
     "exception": false,
     "start_time": "2024-10-28T20:31:58.913188",
     "status": "completed"
    },
    "tags": []
   },
   "outputs": [],
   "source": [
    "\n",
    "def show_annotation_and_image(image, annotation):\n",
    "    new_ann = np.argmax(annotation, axis=2)\n",
    "    seg_img = give_color_to_annotation(new_ann)\n",
    "\n",
    "    image = image + 1\n",
    "    image = image * 127.5\n",
    "    image = np.reshape(image, (image.shape[0], image.shape[1],))\n",
    "\n",
    "    image = np.uint8(image)\n",
    "    images = [image, seg_img]\n",
    "\n",
    "    fused_img = fuse_with_pil(images)\n",
    "    plt.imshow(fused_img)"
   ]
  },
  {
   "cell_type": "code",
   "execution_count": 15,
   "id": "35271454",
   "metadata": {
    "execution": {
     "iopub.execute_input": "2024-10-28T20:31:58.955585Z",
     "iopub.status.busy": "2024-10-28T20:31:58.955153Z",
     "iopub.status.idle": "2024-10-28T20:31:58.962312Z",
     "shell.execute_reply": "2024-10-28T20:31:58.961300Z"
    },
    "papermill": {
     "duration": 0.02177,
     "end_time": "2024-10-28T20:31:58.964549",
     "exception": false,
     "start_time": "2024-10-28T20:31:58.942779",
     "status": "completed"
    },
    "tags": []
   },
   "outputs": [],
   "source": [
    "def list_show_annotation(dataset, num_images):\n",
    "    ds = dataset.unbatch()\n",
    "\n",
    "    plt.figure(figsize=(20, 15))\n",
    "    plt.title(\"Images And Annotations\")\n",
    "    plt.subplots_adjust(bottom=0.1, top=0.9, hspace=0.05)\n",
    "\n",
    "    for idx, (image, annotation) in enumerate(ds.take(num_images)):\n",
    "        plt.subplot(5, 5, idx + 1)\n",
    "        plt.yticks([])\n",
    "        plt.xticks([])\n",
    "        show_annotation_and_image(image.numpy(), annotation.numpy())\n"
   ]
  },
  {
   "cell_type": "code",
   "execution_count": null,
   "id": "be95324c",
   "metadata": {
    "papermill": {
     "duration": 0.010566,
     "end_time": "2024-10-28T20:31:58.985747",
     "exception": false,
     "start_time": "2024-10-28T20:31:58.975181",
     "status": "completed"
    },
    "tags": []
   },
   "outputs": [],
   "source": []
  },
  {
   "cell_type": "code",
   "execution_count": 16,
   "id": "4f9d3ef1",
   "metadata": {
    "execution": {
     "iopub.execute_input": "2024-10-28T20:31:59.009165Z",
     "iopub.status.busy": "2024-10-28T20:31:59.008748Z",
     "iopub.status.idle": "2024-10-28T20:32:01.546674Z",
     "shell.execute_reply": "2024-10-28T20:32:01.545671Z"
    },
    "papermill": {
     "duration": 2.552477,
     "end_time": "2024-10-28T20:32:01.549047",
     "exception": false,
     "start_time": "2024-10-28T20:31:58.996570",
     "status": "completed"
    },
    "tags": []
   },
   "outputs": [
    {
     "name": "stderr",
     "output_type": "stream",
     "text": [
      "2025-08-09 23:58:03.835674: W tensorflow/tsl/framework/cpu_allocator_impl.cc:83] Allocation of 1892352000 exceeds 10% of free system memory.\n",
      "/tmp/ipykernel_15309/4203448702.py:9: MatplotlibDeprecationWarning: Auto-removal of overlapping axes is deprecated since 3.6 and will be removed two minor releases later; explicitly call ax.remove() as needed.\n",
      "  plt.subplot(5, 5, idx + 1)\n"
     ]
    },
    {
     "data": {
      "image/png": "[encoded data removed]",
      "text/plain": [
       "<Figure size 2000x1500 with 10 Axes>"
      ]
     },
     "metadata": {},
     "output_type": "display_data"
    }
   ],
   "source": [
    "list_show_annotation(train_dataset, 10)"
   ]
  },
  {
   "cell_type": "code",
   "execution_count": 17,
   "id": "7e07eee7",
   "metadata": {
    "execution": {
     "iopub.execute_input": "2024-10-28T20:32:01.573677Z",
     "iopub.status.busy": "2024-10-28T20:32:01.573015Z",
     "iopub.status.idle": "2024-10-28T20:32:02.712754Z",
     "shell.execute_reply": "2024-10-28T20:32:02.711706Z"
    },
    "papermill": {
     "duration": 1.154663,
     "end_time": "2024-10-28T20:32:02.715361",
     "exception": false,
     "start_time": "2024-10-28T20:32:01.560698",
     "status": "completed"
    },
    "tags": []
   },
   "outputs": [
    {
     "name": "stderr",
     "output_type": "stream",
     "text": [
      "/tmp/ipykernel_15309/4203448702.py:9: MatplotlibDeprecationWarning: Auto-removal of overlapping axes is deprecated since 3.6 and will be removed two minor releases later; explicitly call ax.remove() as needed.\n",
      "  plt.subplot(5, 5, idx + 1)\n"
     ]
    },
    {
     "data": {
      "image/png": "[encoded data removed]",
      "text/plain": [
       "<Figure size 2000x1500 with 10 Axes>"
      ]
     },
     "metadata": {},
     "output_type": "display_data"
    }
   ],
   "source": [
    "list_show_annotation(valid_dataset, 10)"
   ]
  },
  {
   "cell_type": "markdown",
   "id": "42297856",
   "metadata": {
    "papermill": {
     "duration": 0.011561,
     "end_time": "2024-10-28T20:32:02.739703",
     "exception": false,
     "start_time": "2024-10-28T20:32:02.728142",
     "status": "completed"
    },
    "tags": []
   },
   "source": [
    "## Define The Model\n",
    "----\n",
    "the image segmentation model will have two paths:\n",
    "\n",
    "1. **Downsampling Path** - This part of the network extracts the features in the image. This is done through a series of convolution and pooling layers. The final output is a reduced image (because of the pooling layers) with the extracted features. You will build a custom CNN from scratch for this path.\n",
    "\n",
    "2. **Upsampling Path** - This takes the output of the downsampling path and generates the predictions while also converting the image back to its original size. You will use an FCN-8 decoder for this path."
   ]
  },
  {
   "cell_type": "code",
   "execution_count": 18,
   "id": "a1bbc4a3",
   "metadata": {
    "execution": {
     "iopub.execute_input": "2024-10-28T20:32:02.764740Z",
     "iopub.status.busy": "2024-10-28T20:32:02.764258Z",
     "iopub.status.idle": "2024-10-28T20:32:02.772089Z",
     "shell.execute_reply": "2024-10-28T20:32:02.771135Z"
    },
    "papermill": {
     "duration": 0.023201,
     "end_time": "2024-10-28T20:32:02.774262",
     "exception": false,
     "start_time": "2024-10-28T20:32:02.751061",
     "status": "completed"
    },
    "tags": []
   },
   "outputs": [],
   "source": [
    "IMAGE_ORDERING = \"channels_last\"\n",
    "\n",
    "def conv_block(inputs , filters , kernel_size , pool_size ,pool_strides):\n",
    "    x = tf.keras.layers.Conv2D(filters , kernel_size , padding = \"same\" , data_format = IMAGE_ORDERING)(inputs)\n",
    "    x = tf.keras.layers.LeakyReLU(alpha = 0.3)(x)\n",
    "    x = tf.keras.layers.Conv2D(filters , kernel_size ,padding = \"same\",data_format = IMAGE_ORDERING )(x)\n",
    "    x = tf.keras.layers.LeakyReLU(alpha = 0.3)(x)\n",
    "    x = tf.keras.layers.MaxPooling2D(pool_size = (pool_size,pool_size) , strides = pool_strides)(x)\n",
    "    x = tf.keras.layers.BatchNormalization()(x)\n",
    "    return x "
   ]
  },
  {
   "cell_type": "markdown",
   "id": "08668127",
   "metadata": {
    "papermill": {
     "duration": 0.012192,
     "end_time": "2024-10-28T20:32:02.798766",
     "exception": false,
     "start_time": "2024-10-28T20:32:02.786574",
     "status": "completed"
    },
    "tags": []
   },
   "source": [
    "To optimize processing or to make the output dimensions of each layer easier to work with, it is sometimes advisable to apply some zero-padding to the input image. With the boilerplate code we have provided below, we have padded the input width to 96 pixels using the `ZeroPadding2D`"
   ]
  },
  {
   "cell_type": "code",
   "execution_count": 19,
   "id": "a3dbd639",
   "metadata": {
    "execution": {
     "iopub.execute_input": "2024-10-28T20:32:02.826078Z",
     "iopub.status.busy": "2024-10-28T20:32:02.825681Z",
     "iopub.status.idle": "2024-10-28T20:32:02.834601Z",
     "shell.execute_reply": "2024-10-28T20:32:02.833628Z"
    },
    "papermill": {
     "duration": 0.025304,
     "end_time": "2024-10-28T20:32:02.836944",
     "exception": false,
     "start_time": "2024-10-28T20:32:02.811640",
     "status": "completed"
    },
    "tags": []
   },
   "outputs": [],
   "source": [
    "def FCN8(input_height= 64 ,input_width = 84 ):\n",
    "    img_input = tf.keras.layers.Input(shape = (input_height,input_width,1))\n",
    "    x = tf.keras.layers.ZeroPadding2D(((0, 0), (0, 96- input_width)))(img_input)\n",
    "    \n",
    "    x = conv_block(x , filters = 32 , kernel_size = 3 , pool_size = 2 , pool_strides = 2)\n",
    "    x = conv_block(x , filters = 64 , kernel_size = 3 , pool_size = 2 , pool_strides = 2)\n",
    "    x = conv_block(x , filters = 128 , kernel_size = 3 , pool_size = 2 , pool_strides = 2)\n",
    "\n",
    "    f3 = x \n",
    "    x = conv_block(x , filters = 256 , kernel_size = 3 , pool_size = 2 , pool_strides = 2)\n",
    "    f4 = x \n",
    "    x = conv_block(x , filters = 256 , kernel_size = 3 , pool_size = 2 , pool_strides = 2)\n",
    "    f5 = x \n",
    "    return (f3 , f4 ,f5 ), img_input"
   ]
  },
  {
   "cell_type": "code",
   "execution_count": 20,
   "id": "609f4e74",
   "metadata": {
    "execution": {
     "iopub.execute_input": "2024-10-28T20:32:02.863520Z",
     "iopub.status.busy": "2024-10-28T20:32:02.862836Z",
     "iopub.status.idle": "2024-10-28T20:32:02.877280Z",
     "shell.execute_reply": "2024-10-28T20:32:02.876175Z"
    },
    "papermill": {
     "duration": 0.030113,
     "end_time": "2024-10-28T20:32:02.879650",
     "exception": false,
     "start_time": "2024-10-28T20:32:02.849537",
     "status": "completed"
    },
    "tags": []
   },
   "outputs": [],
   "source": [
    "def fcn8_decoder(convs , n_classes):\n",
    "    f3 , f4 , f5 = convs\n",
    "    n = 512 \n",
    "    o = tf.keras.layers.Conv2D(n , (7 , 7) , activation='relu' , padding='same', name=\"conv6\", data_format=IMAGE_ORDERING)(f5)\n",
    "    o = tf.keras.layers.Dropout(0.5)(o)\n",
    "\n",
    "    o = tf.keras.layers.Conv2D(n , (1 , 1) , activation='relu' , padding='same', name=\"conv7\", data_format=IMAGE_ORDERING)(o)\n",
    "    o = tf.keras.layers.Dropout(0.5)(o)\n",
    "\n",
    "    o = tf.keras.layers.Conv2D(n_classes,  (1, 1), activation='relu' , padding='same', data_format=IMAGE_ORDERING)(o)\n",
    "    \n",
    "    o = tf.keras.layers.Conv2DTranspose(n_classes , kernel_size = (4,4), strides = (2,2) ,\n",
    "                                        padding =\"valid\" ,use_bias = False, data_format=IMAGE_ORDERING )(o)\n",
    "    o = tf.keras.layers.Cropping2D(cropping = (1,1))(o)\n",
    "    \n",
    "    o2 = f4\n",
    "    o2 = tf.keras.layers.Conv2D(n_classes, kernel_size =(1,1),data_format=IMAGE_ORDERING)(o2)\n",
    "    \n",
    "    o = tf.keras.layers.concatenate([o , o2])\n",
    "    \n",
    "      \n",
    "    o = tf.keras.layers.Conv2DTranspose(n_classes , kernel_size = (4,4), strides = (2,2) ,\n",
    "                                        padding =\"valid\" ,use_bias = False, data_format=IMAGE_ORDERING )(o)\n",
    "    o = tf.keras.layers.Cropping2D(cropping = (1,1))(o)\n",
    "    o2 = f3 \n",
    "    o2 = tf.keras.layers.Conv2D(n_classes, kernel_size =(1,1),activation =\"relu\" , padding =\"same\" , data_format=IMAGE_ORDERING)(o2)\n",
    "    o = tf.keras.layers.concatenate([o, o2])\n",
    "    o = tf.keras.layers.Conv2DTranspose(filters=n_classes, kernel_size=(8, 8), strides=(8, 8), \n",
    "                                      padding=\"valid\", use_bias=False, data_format=IMAGE_ORDERING)(o)\n",
    "    o = tf.keras.layers.Cropping2D(((0, 0), (0, 96-84)))(o)\n",
    "\n",
    "    o = (tf.keras.layers.Activation('sigmoid'))(o)\n",
    "    return o "
   ]
  },
  {
   "cell_type": "code",
   "execution_count": 21,
   "id": "1438cee9",
   "metadata": {
    "execution": {
     "iopub.execute_input": "2024-10-28T20:32:02.904515Z",
     "iopub.status.busy": "2024-10-28T20:32:02.904122Z",
     "iopub.status.idle": "2024-10-28T20:32:03.239498Z",
     "shell.execute_reply": "2024-10-28T20:32:03.238415Z"
    },
    "papermill": {
     "duration": 0.350365,
     "end_time": "2024-10-28T20:32:03.242008",
     "exception": false,
     "start_time": "2024-10-28T20:32:02.891643",
     "status": "completed"
    },
    "tags": []
   },
   "outputs": [],
   "source": [
    "convs , img_input = FCN8()\n",
    "dec_output = fcn8_decoder(convs , n_classes)\n",
    "model = tf.keras.Model(inputs = img_input, outputs = dec_output)"
   ]
  },
  {
   "cell_type": "code",
   "execution_count": 22,
   "id": "4722004a",
   "metadata": {
    "execution": {
     "iopub.execute_input": "2024-10-28T20:32:03.268139Z",
     "iopub.status.busy": "2024-10-28T20:32:03.267445Z",
     "iopub.status.idle": "2024-10-28T20:32:03.348454Z",
     "shell.execute_reply": "2024-10-28T20:32:03.347464Z"
    },
    "papermill": {
     "duration": 0.097715,
     "end_time": "2024-10-28T20:32:03.352295",
     "exception": false,
     "start_time": "2024-10-28T20:32:03.254580",
     "status": "completed"
    },
    "tags": []
   },
   "outputs": [
    {
     "name": "stdout",
     "output_type": "stream",
     "text": [
      "Model: \"model\"\n",
      "__________________________________________________________________________________________________\n",
      " Layer (type)                Output Shape                 Param #   Connected to                  \n",
      "==================================================================================================\n",
      " input_1 (InputLayer)        [(None, 64, 84, 1)]          0         []                            \n",
      "                                                                                                  \n",
      " zero_padding2d (ZeroPaddin  (None, 64, 96, 1)            0         ['input_1[0][0]']             \n",
      " g2D)                                                                                             \n",
      "                                                                                                  \n",
      " conv2d (Conv2D)             (None, 64, 96, 32)           320       ['zero_padding2d[0][0]']      \n",
      "                                                                                                  \n",
      " leaky_re_lu (LeakyReLU)     (None, 64, 96, 32)           0         ['conv2d[0][0]']              \n",
      "                                                                                                  \n",
      " conv2d_1 (Conv2D)           (None, 64, 96, 32)           9248      ['leaky_re_lu[0][0]']         \n",
      "                                                                                                  \n",
      " leaky_re_lu_1 (LeakyReLU)   (None, 64, 96, 32)           0         ['conv2d_1[0][0]']            \n",
      "                                                                                                  \n",
      " max_pooling2d (MaxPooling2  (None, 32, 48, 32)           0         ['leaky_re_lu_1[0][0]']       \n",
      " D)                                                                                               \n",
      "                                                                                                  \n",
      " batch_normalization (Batch  (None, 32, 48, 32)           128       ['max_pooling2d[0][0]']       \n",
      " Normalization)                                                                                   \n",
      "                                                                                                  \n",
      " conv2d_2 (Conv2D)           (None, 32, 48, 64)           18496     ['batch_normalization[0][0]'] \n",
      "                                                                                                  \n",
      " leaky_re_lu_2 (LeakyReLU)   (None, 32, 48, 64)           0         ['conv2d_2[0][0]']            \n",
      "                                                                                                  \n",
      " conv2d_3 (Conv2D)           (None, 32, 48, 64)           36928     ['leaky_re_lu_2[0][0]']       \n",
      "                                                                                                  \n",
      " leaky_re_lu_3 (LeakyReLU)   (None, 32, 48, 64)           0         ['conv2d_3[0][0]']            \n",
      "                                                                                                  \n",
      " max_pooling2d_1 (MaxPoolin  (None, 16, 24, 64)           0         ['leaky_re_lu_3[0][0]']       \n",
      " g2D)                                                                                             \n",
      "                                                                                                  \n",
      " batch_normalization_1 (Bat  (None, 16, 24, 64)           256       ['max_pooling2d_1[0][0]']     \n",
      " chNormalization)                                                                                 \n",
      "                                                                                                  \n",
      " conv2d_4 (Conv2D)           (None, 16, 24, 128)          73856     ['batch_normalization_1[0][0]'\n",
      "                                                                    ]                             \n",
      "                                                                                                  \n",
      " leaky_re_lu_4 (LeakyReLU)   (None, 16, 24, 128)          0         ['conv2d_4[0][0]']            \n",
      "                                                                                                  \n",
      " conv2d_5 (Conv2D)           (None, 16, 24, 128)          147584    ['leaky_re_lu_4[0][0]']       \n",
      "                                                                                                  \n",
      " leaky_re_lu_5 (LeakyReLU)   (None, 16, 24, 128)          0         ['conv2d_5[0][0]']            \n",
      "                                                                                                  \n",
      " max_pooling2d_2 (MaxPoolin  (None, 8, 12, 128)           0         ['leaky_re_lu_5[0][0]']       \n",
      " g2D)                                                                                             \n",
      "                                                                                                  \n",
      " batch_normalization_2 (Bat  (None, 8, 12, 128)           512       ['max_pooling2d_2[0][0]']     \n",
      " chNormalization)                                                                                 \n",
      "                                                                                                  \n",
      " conv2d_6 (Conv2D)           (None, 8, 12, 256)           295168    ['batch_normalization_2[0][0]'\n",
      "                                                                    ]                             \n",
      "                                                                                                  \n",
      " leaky_re_lu_6 (LeakyReLU)   (None, 8, 12, 256)           0         ['conv2d_6[0][0]']            \n",
      "                                                                                                  \n",
      " conv2d_7 (Conv2D)           (None, 8, 12, 256)           590080    ['leaky_re_lu_6[0][0]']       \n",
      "                                                                                                  \n",
      " leaky_re_lu_7 (LeakyReLU)   (None, 8, 12, 256)           0         ['conv2d_7[0][0]']            \n",
      "                                                                                                  \n",
      " max_pooling2d_3 (MaxPoolin  (None, 4, 6, 256)            0         ['leaky_re_lu_7[0][0]']       \n",
      " g2D)                                                                                             \n",
      "                                                                                                  \n",
      " batch_normalization_3 (Bat  (None, 4, 6, 256)            1024      ['max_pooling2d_3[0][0]']     \n",
      " chNormalization)                                                                                 \n",
      "                                                                                                  \n",
      " conv2d_8 (Conv2D)           (None, 4, 6, 256)            590080    ['batch_normalization_3[0][0]'\n",
      "                                                                    ]                             \n",
      "                                                                                                  \n",
      " leaky_re_lu_8 (LeakyReLU)   (None, 4, 6, 256)            0         ['conv2d_8[0][0]']            \n",
      "                                                                                                  \n",
      " conv2d_9 (Conv2D)           (None, 4, 6, 256)            590080    ['leaky_re_lu_8[0][0]']       \n",
      "                                                                                                  \n",
      " leaky_re_lu_9 (LeakyReLU)   (None, 4, 6, 256)            0         ['conv2d_9[0][0]']            \n",
      "                                                                                                  \n",
      " max_pooling2d_4 (MaxPoolin  (None, 2, 3, 256)            0         ['leaky_re_lu_9[0][0]']       \n",
      " g2D)                                                                                             \n",
      "                                                                                                  \n",
      " batch_normalization_4 (Bat  (None, 2, 3, 256)            1024      ['max_pooling2d_4[0][0]']     \n",
      " chNormalization)                                                                                 \n",
      "                                                                                                  \n",
      " conv6 (Conv2D)              (None, 2, 3, 512)            6423040   ['batch_normalization_4[0][0]'\n",
      "                                                                    ]                             \n",
      "                                                                                                  \n",
      " dropout (Dropout)           (None, 2, 3, 512)            0         ['conv6[0][0]']               \n",
      "                                                                                                  \n",
      " conv7 (Conv2D)              (None, 2, 3, 512)            262656    ['dropout[0][0]']             \n",
      "                                                                                                  \n",
      " dropout_1 (Dropout)         (None, 2, 3, 512)            0         ['conv7[0][0]']               \n",
      "                                                                                                  \n",
      " conv2d_10 (Conv2D)          (None, 2, 3, 11)             5643      ['dropout_1[0][0]']           \n",
      "                                                                                                  \n",
      " conv2d_transpose (Conv2DTr  (None, 6, 8, 11)             1936      ['conv2d_10[0][0]']           \n",
      " anspose)                                                                                         \n",
      "                                                                                                  \n",
      " cropping2d (Cropping2D)     (None, 4, 6, 11)             0         ['conv2d_transpose[0][0]']    \n",
      "                                                                                                  \n",
      " conv2d_11 (Conv2D)          (None, 4, 6, 11)             2827      ['batch_normalization_3[0][0]'\n",
      "                                                                    ]                             \n",
      "                                                                                                  \n",
      " concatenate (Concatenate)   (None, 4, 6, 22)             0         ['cropping2d[0][0]',          \n",
      "                                                                     'conv2d_11[0][0]']           \n",
      "                                                                                                  \n",
      " conv2d_transpose_1 (Conv2D  (None, 10, 14, 11)           3872      ['concatenate[0][0]']         \n",
      " Transpose)                                                                                       \n",
      "                                                                                                  \n",
      " cropping2d_1 (Cropping2D)   (None, 8, 12, 11)            0         ['conv2d_transpose_1[0][0]']  \n",
      "                                                                                                  \n",
      " conv2d_12 (Conv2D)          (None, 8, 12, 11)            1419      ['batch_normalization_2[0][0]'\n",
      "                                                                    ]                             \n",
      "                                                                                                  \n",
      " concatenate_1 (Concatenate  (None, 8, 12, 22)            0         ['cropping2d_1[0][0]',        \n",
      " )                                                                   'conv2d_12[0][0]']           \n",
      "                                                                                                  \n",
      " conv2d_transpose_2 (Conv2D  (None, 64, 96, 11)           15488     ['concatenate_1[0][0]']       \n",
      " Transpose)                                                                                       \n",
      "                                                                                                  \n",
      " cropping2d_2 (Cropping2D)   (None, 64, 84, 11)           0         ['conv2d_transpose_2[0][0]']  \n",
      "                                                                                                  \n",
      " activation (Activation)     (None, 64, 84, 11)           0         ['cropping2d_2[0][0]']        \n",
      "                                                                                                  \n",
      "==================================================================================================\n",
      "Total params: 9071665 (34.61 MB)\n",
      "Trainable params: 9070193 (34.60 MB)\n",
      "Non-trainable params: 1472 (5.75 KB)\n",
      "__________________________________________________________________________________________________\n"
     ]
    }
   ],
   "source": [
    "model.summary()"
   ]
  },
  {
   "cell_type": "markdown",
   "id": "0cd984ad",
   "metadata": {
    "papermill": {
     "duration": 0.014115,
     "end_time": "2024-10-28T20:32:03.381318",
     "exception": false,
     "start_time": "2024-10-28T20:32:03.367203",
     "status": "completed"
    },
    "tags": []
   },
   "source": [
    "## Training"
   ]
  },
  {
   "cell_type": "code",
   "execution_count": 23,
   "id": "3369b291",
   "metadata": {
    "execution": {
     "iopub.execute_input": "2024-10-28T20:32:03.413327Z",
     "iopub.status.busy": "2024-10-28T20:32:03.412943Z",
     "iopub.status.idle": "2024-10-28T20:32:03.427038Z",
     "shell.execute_reply": "2024-10-28T20:32:03.426243Z"
    },
    "papermill": {
     "duration": 0.033457,
     "end_time": "2024-10-28T20:32:03.429308",
     "exception": false,
     "start_time": "2024-10-28T20:32:03.395851",
     "status": "completed"
    },
    "tags": []
   },
   "outputs": [],
   "source": [
    "model.compile(loss='categorical_crossentropy', optimizer=tf.keras.optimizers.SGD(learning_rate=1E-2, momentum=0.9, nesterov=True), \n",
    "              metrics=['accuracy'])"
   ]
  },
  {
   "cell_type": "code",
   "execution_count": 24,
   "id": "e14d31a8",
   "metadata": {
    "collapsed": true,
    "execution": {
     "iopub.execute_input": "2024-10-28T20:32:03.459709Z",
     "iopub.status.busy": "2024-10-28T20:32:03.458862Z",
     "iopub.status.idle": "2024-10-28T20:37:10.982937Z",
     "shell.execute_reply": "2024-10-28T20:37:10.981796Z"
    },
    "jupyter": {
     "outputs_hidden": true
    },
    "papermill": {
     "duration": 307.542052,
     "end_time": "2024-10-28T20:37:10.985517",
     "exception": false,
     "start_time": "2024-10-28T20:32:03.443465",
     "status": "completed"
    },
    "tags": []
   },
   "outputs": [
    {
     "name": "stdout",
     "output_type": "stream",
     "text": [
      "Epoch 1/100\n"
     ]
    },
    {
     "name": "stderr",
     "output_type": "stream",
     "text": [
      "2025-08-09 23:58:12.433784: E tensorflow/core/grappler/optimizers/meta_optimizer.cc:954] layout failed: INVALID_ARGUMENT: Size of values 0 does not match size of permutation 4 @ fanin shape inmodel/dropout/dropout/SelectV2-2-TransposeNHWCToNCHW-LayoutOptimizer\n",
      "2025-08-09 23:58:12.844420: I tensorflow/compiler/xla/stream_executor/cuda/cuda_dnn.cc:432] Loaded cuDNN version 8600\n",
      "2025-08-09 23:58:14.058204: I tensorflow/compiler/xla/service/service.cc:168] XLA service 0x7f41463fcb30 initialized for platform CUDA (this does not guarantee that XLA will be used). Devices:\n",
      "2025-08-09 23:58:14.058240: I tensorflow/compiler/xla/service/service.cc:176]   StreamExecutor device (0): Tesla V100-PCIE-32GB, Compute Capability 7.0\n",
      "2025-08-09 23:58:14.140457: I ./tensorflow/compiler/jit/device_compiler.h:186] Compiled cluster using XLA!  This line is logged at most once for the lifetime of the process.\n"
     ]
    },
    {
     "name": "stdout",
     "output_type": "stream",
     "text": [
      "125/125 [==============================] - 9s 27ms/step - loss: 1.0313 - accuracy: 0.7317 - val_loss: 0.5114 - val_accuracy: 0.9422\n",
      "Epoch 2/100\n",
      "125/125 [==============================] - 2s 20ms/step - loss: 0.2355 - accuracy: 0.9426 - val_loss: 0.3637 - val_accuracy: 0.9422\n",
      "Epoch 3/100\n",
      "125/125 [==============================] - 2s 20ms/step - loss: 0.2269 - accuracy: 0.9426 - val_loss: 0.2777 - val_accuracy: 0.9422\n",
      "Epoch 4/100\n",
      "125/125 [==============================] - 2s 20ms/step - loss: 0.2222 - accuracy: 0.9426 - val_loss: 0.2373 - val_accuracy: 0.9422\n",
      "Epoch 5/100\n",
      "125/125 [==============================] - 3s 20ms/step - loss: 0.2185 - accuracy: 0.9426 - val_loss: 0.2233 - val_accuracy: 0.9422\n",
      "Epoch 6/100\n",
      "125/125 [==============================] - 3s 22ms/step - loss: 0.2152 - accuracy: 0.9426 - val_loss: 0.2165 - val_accuracy: 0.9423\n",
      "Epoch 7/100\n",
      "125/125 [==============================] - 3s 28ms/step - loss: 0.2121 - accuracy: 0.9426 - val_loss: 0.2130 - val_accuracy: 0.9423\n",
      "Epoch 8/100\n",
      "125/125 [==============================] - 3s 21ms/step - loss: 0.2090 - accuracy: 0.9426 - val_loss: 0.2093 - val_accuracy: 0.9422\n",
      "Epoch 9/100\n",
      "125/125 [==============================] - 3s 20ms/step - loss: 0.2060 - accuracy: 0.9426 - val_loss: 0.2063 - val_accuracy: 0.9423\n",
      "Epoch 10/100\n",
      "125/125 [==============================] - 3s 21ms/step - loss: 0.2032 - accuracy: 0.9426 - val_loss: 0.2037 - val_accuracy: 0.9423\n",
      "Epoch 11/100\n",
      "125/125 [==============================] - 3s 20ms/step - loss: 0.2007 - accuracy: 0.9426 - val_loss: 0.2010 - val_accuracy: 0.9423\n",
      "Epoch 12/100\n",
      "125/125 [==============================] - 3s 21ms/step - loss: 0.1983 - accuracy: 0.9426 - val_loss: 0.1988 - val_accuracy: 0.9423\n",
      "Epoch 13/100\n",
      "125/125 [==============================] - 3s 21ms/step - loss: 0.1962 - accuracy: 0.9426 - val_loss: 0.1964 - val_accuracy: 0.9423\n",
      "Epoch 14/100\n",
      "125/125 [==============================] - 3s 21ms/step - loss: 0.1943 - accuracy: 0.9426 - val_loss: 0.1945 - val_accuracy: 0.9423\n",
      "Epoch 15/100\n",
      "125/125 [==============================] - 3s 21ms/step - loss: 0.1925 - accuracy: 0.9427 - val_loss: 0.1928 - val_accuracy: 0.9424\n",
      "Epoch 16/100\n",
      "125/125 [==============================] - 3s 20ms/step - loss: 0.1909 - accuracy: 0.9427 - val_loss: 0.1913 - val_accuracy: 0.9424\n",
      "Epoch 17/100\n",
      "125/125 [==============================] - 3s 21ms/step - loss: 0.1894 - accuracy: 0.9427 - val_loss: 0.1898 - val_accuracy: 0.9424\n",
      "Epoch 18/100\n",
      "125/125 [==============================] - 3s 20ms/step - loss: 0.1881 - accuracy: 0.9428 - val_loss: 0.1883 - val_accuracy: 0.9425\n",
      "Epoch 19/100\n",
      "125/125 [==============================] - 3s 20ms/step - loss: 0.1868 - accuracy: 0.9429 - val_loss: 0.1871 - val_accuracy: 0.9426\n",
      "Epoch 20/100\n",
      "125/125 [==============================] - 2s 20ms/step - loss: 0.1856 - accuracy: 0.9429 - val_loss: 0.1860 - val_accuracy: 0.9427\n",
      "Epoch 21/100\n",
      "125/125 [==============================] - 2s 20ms/step - loss: 0.1844 - accuracy: 0.9430 - val_loss: 0.1847 - val_accuracy: 0.9428\n",
      "Epoch 22/100\n",
      "125/125 [==============================] - 3s 20ms/step - loss: 0.1833 - accuracy: 0.9432 - val_loss: 0.1836 - val_accuracy: 0.9429\n",
      "Epoch 23/100\n",
      "125/125 [==============================] - 3s 21ms/step - loss: 0.1822 - accuracy: 0.9433 - val_loss: 0.1824 - val_accuracy: 0.9431\n",
      "Epoch 24/100\n",
      "125/125 [==============================] - 3s 21ms/step - loss: 0.1811 - accuracy: 0.9434 - val_loss: 0.1813 - val_accuracy: 0.9433\n",
      "Epoch 25/100\n",
      "125/125 [==============================] - 3s 21ms/step - loss: 0.1800 - accuracy: 0.9436 - val_loss: 0.1802 - val_accuracy: 0.9435\n",
      "Epoch 26/100\n",
      "125/125 [==============================] - 2s 20ms/step - loss: 0.1788 - accuracy: 0.9438 - val_loss: 0.1791 - val_accuracy: 0.9437\n",
      "Epoch 27/100\n",
      "125/125 [==============================] - 3s 20ms/step - loss: 0.1776 - accuracy: 0.9441 - val_loss: 0.1777 - val_accuracy: 0.9440\n",
      "Epoch 28/100\n",
      "125/125 [==============================] - 2s 20ms/step - loss: 0.1762 - accuracy: 0.9444 - val_loss: 0.1762 - val_accuracy: 0.9444\n",
      "Epoch 29/100\n",
      "125/125 [==============================] - 3s 20ms/step - loss: 0.1748 - accuracy: 0.9447 - val_loss: 0.1747 - val_accuracy: 0.9447\n",
      "Epoch 30/100\n",
      "125/125 [==============================] - 3s 20ms/step - loss: 0.1730 - accuracy: 0.9451 - val_loss: 0.1727 - val_accuracy: 0.9451\n",
      "Epoch 31/100\n",
      "125/125 [==============================] - 3s 20ms/step - loss: 0.1711 - accuracy: 0.9456 - val_loss: 0.1705 - val_accuracy: 0.9455\n",
      "Epoch 32/100\n",
      "125/125 [==============================] - 3s 21ms/step - loss: 0.1688 - accuracy: 0.9460 - val_loss: 0.1682 - val_accuracy: 0.9459\n",
      "Epoch 33/100\n",
      "125/125 [==============================] - 3s 20ms/step - loss: 0.1662 - accuracy: 0.9464 - val_loss: 0.1654 - val_accuracy: 0.9464\n",
      "Epoch 34/100\n",
      "125/125 [==============================] - 3s 21ms/step - loss: 0.1633 - accuracy: 0.9468 - val_loss: 0.1625 - val_accuracy: 0.9469\n",
      "Epoch 35/100\n",
      "125/125 [==============================] - 2s 20ms/step - loss: 0.1603 - accuracy: 0.9473 - val_loss: 0.1593 - val_accuracy: 0.9472\n",
      "Epoch 36/100\n",
      "125/125 [==============================] - 2s 20ms/step - loss: 0.1570 - accuracy: 0.9478 - val_loss: 0.1561 - val_accuracy: 0.9478\n",
      "Epoch 37/100\n",
      "125/125 [==============================] - 2s 20ms/step - loss: 0.1538 - accuracy: 0.9482 - val_loss: 0.1530 - val_accuracy: 0.9483\n",
      "Epoch 38/100\n",
      "125/125 [==============================] - 2s 20ms/step - loss: 0.1505 - accuracy: 0.9487 - val_loss: 0.1499 - val_accuracy: 0.9487\n",
      "Epoch 39/100\n",
      "125/125 [==============================] - 3s 20ms/step - loss: 0.1474 - accuracy: 0.9492 - val_loss: 0.1473 - val_accuracy: 0.9493\n",
      "Epoch 40/100\n",
      "125/125 [==============================] - 2s 20ms/step - loss: 0.1446 - accuracy: 0.9497 - val_loss: 0.1442 - val_accuracy: 0.9500\n",
      "Epoch 41/100\n",
      "125/125 [==============================] - 2s 20ms/step - loss: 0.1419 - accuracy: 0.9503 - val_loss: 0.1418 - val_accuracy: 0.9503\n",
      "Epoch 42/100\n",
      "125/125 [==============================] - 2s 20ms/step - loss: 0.1394 - accuracy: 0.9509 - val_loss: 0.1393 - val_accuracy: 0.9512\n",
      "Epoch 43/100\n",
      "125/125 [==============================] - 3s 21ms/step - loss: 0.1371 - accuracy: 0.9516 - val_loss: 0.1376 - val_accuracy: 0.9518\n",
      "Epoch 44/100\n",
      "125/125 [==============================] - 3s 20ms/step - loss: 0.1349 - accuracy: 0.9523 - val_loss: 0.1358 - val_accuracy: 0.9525\n",
      "Epoch 45/100\n",
      "125/125 [==============================] - 3s 21ms/step - loss: 0.1328 - accuracy: 0.9530 - val_loss: 0.1330 - val_accuracy: 0.9534\n",
      "Epoch 46/100\n",
      "125/125 [==============================] - 3s 20ms/step - loss: 0.1306 - accuracy: 0.9538 - val_loss: 0.1309 - val_accuracy: 0.9545\n",
      "Epoch 47/100\n",
      "125/125 [==============================] - 2s 20ms/step - loss: 0.1284 - accuracy: 0.9547 - val_loss: 0.1284 - val_accuracy: 0.9553\n",
      "Epoch 48/100\n",
      "125/125 [==============================] - 3s 20ms/step - loss: 0.1266 - accuracy: 0.9555 - val_loss: 0.1266 - val_accuracy: 0.9559\n",
      "Epoch 49/100\n",
      "125/125 [==============================] - 3s 20ms/step - loss: 0.1240 - accuracy: 0.9566 - val_loss: 0.1249 - val_accuracy: 0.9573\n",
      "Epoch 50/100\n",
      "125/125 [==============================] - 3s 20ms/step - loss: 0.1217 - accuracy: 0.9576 - val_loss: 0.1215 - val_accuracy: 0.9580\n",
      "Epoch 51/100\n",
      "125/125 [==============================] - 2s 20ms/step - loss: 0.1193 - accuracy: 0.9586 - val_loss: 0.1224 - val_accuracy: 0.9582\n",
      "Epoch 52/100\n",
      "125/125 [==============================] - 2s 20ms/step - loss: 0.1165 - accuracy: 0.9598 - val_loss: 0.1203 - val_accuracy: 0.9576\n",
      "Epoch 53/100\n",
      "125/125 [==============================] - 3s 20ms/step - loss: 0.1139 - accuracy: 0.9609 - val_loss: 0.1133 - val_accuracy: 0.9618\n",
      "Epoch 54/100\n",
      "125/125 [==============================] - 3s 20ms/step - loss: 0.1107 - accuracy: 0.9623 - val_loss: 0.1101 - val_accuracy: 0.9629\n",
      "Epoch 55/100\n",
      "125/125 [==============================] - 2s 20ms/step - loss: 0.1076 - accuracy: 0.9636 - val_loss: 0.1074 - val_accuracy: 0.9637\n",
      "Epoch 56/100\n",
      "125/125 [==============================] - 3s 20ms/step - loss: 0.1046 - accuracy: 0.9647 - val_loss: 0.1034 - val_accuracy: 0.9658\n",
      "Epoch 57/100\n",
      "125/125 [==============================] - 3s 20ms/step - loss: 0.1013 - accuracy: 0.9659 - val_loss: 0.1001 - val_accuracy: 0.9664\n",
      "Epoch 58/100\n",
      "125/125 [==============================] - 2s 20ms/step - loss: 0.0977 - accuracy: 0.9674 - val_loss: 0.0983 - val_accuracy: 0.9669\n",
      "Epoch 59/100\n",
      "125/125 [==============================] - 2s 20ms/step - loss: 0.0943 - accuracy: 0.9686 - val_loss: 0.0962 - val_accuracy: 0.9670\n",
      "Epoch 60/100\n",
      "125/125 [==============================] - 2s 20ms/step - loss: 0.0907 - accuracy: 0.9698 - val_loss: 0.0954 - val_accuracy: 0.9683\n",
      "Epoch 61/100\n",
      "125/125 [==============================] - 3s 21ms/step - loss: 0.0876 - accuracy: 0.9709 - val_loss: 0.0861 - val_accuracy: 0.9717\n",
      "Epoch 62/100\n",
      "125/125 [==============================] - 3s 20ms/step - loss: 0.0844 - accuracy: 0.9720 - val_loss: 0.0857 - val_accuracy: 0.9715\n",
      "Epoch 63/100\n",
      "125/125 [==============================] - 3s 20ms/step - loss: 0.0817 - accuracy: 0.9729 - val_loss: 0.0889 - val_accuracy: 0.9699\n",
      "Epoch 64/100\n",
      "125/125 [==============================] - 2s 20ms/step - loss: 0.0791 - accuracy: 0.9737 - val_loss: 0.0816 - val_accuracy: 0.9728\n",
      "Epoch 65/100\n",
      "125/125 [==============================] - 3s 20ms/step - loss: 0.0763 - accuracy: 0.9746 - val_loss: 0.0758 - val_accuracy: 0.9749\n",
      "Epoch 66/100\n",
      "125/125 [==============================] - 2s 20ms/step - loss: 0.0739 - accuracy: 0.9754 - val_loss: 0.0769 - val_accuracy: 0.9741\n",
      "Epoch 67/100\n",
      "125/125 [==============================] - 2s 20ms/step - loss: 0.0712 - accuracy: 0.9763 - val_loss: 0.0714 - val_accuracy: 0.9760\n",
      "Epoch 68/100\n",
      "125/125 [==============================] - 2s 20ms/step - loss: 0.0689 - accuracy: 0.9769 - val_loss: 0.0833 - val_accuracy: 0.9710\n",
      "Epoch 69/100\n",
      "125/125 [==============================] - 2s 20ms/step - loss: 0.0667 - accuracy: 0.9775 - val_loss: 0.0682 - val_accuracy: 0.9772\n",
      "Epoch 70/100\n",
      "125/125 [==============================] - 3s 20ms/step - loss: 0.0644 - accuracy: 0.9782 - val_loss: 0.0673 - val_accuracy: 0.9773\n",
      "Epoch 71/100\n",
      "125/125 [==============================] - 3s 20ms/step - loss: 0.0626 - accuracy: 0.9788 - val_loss: 0.0639 - val_accuracy: 0.9785\n",
      "Epoch 72/100\n",
      "125/125 [==============================] - 3s 20ms/step - loss: 0.0606 - accuracy: 0.9793 - val_loss: 0.0696 - val_accuracy: 0.9763\n",
      "Epoch 73/100\n",
      "125/125 [==============================] - 2s 20ms/step - loss: 0.0586 - accuracy: 0.9799 - val_loss: 0.0659 - val_accuracy: 0.9771\n",
      "Epoch 74/100\n",
      "125/125 [==============================] - 2s 20ms/step - loss: 0.0570 - accuracy: 0.9804 - val_loss: 0.0590 - val_accuracy: 0.9799\n",
      "Epoch 75/100\n",
      "125/125 [==============================] - 2s 20ms/step - loss: 0.0558 - accuracy: 0.9807 - val_loss: 0.0590 - val_accuracy: 0.9794\n",
      "Epoch 76/100\n",
      "125/125 [==============================] - 2s 20ms/step - loss: 0.0543 - accuracy: 0.9811 - val_loss: 0.0584 - val_accuracy: 0.9799\n",
      "Epoch 77/100\n",
      "125/125 [==============================] - 2s 20ms/step - loss: 0.0530 - accuracy: 0.9815 - val_loss: 0.0656 - val_accuracy: 0.9767\n",
      "Epoch 78/100\n",
      "125/125 [==============================] - 3s 20ms/step - loss: 0.0518 - accuracy: 0.9818 - val_loss: 0.0570 - val_accuracy: 0.9802\n",
      "Epoch 79/100\n",
      "125/125 [==============================] - 2s 20ms/step - loss: 0.0509 - accuracy: 0.9820 - val_loss: 0.0546 - val_accuracy: 0.9809\n",
      "Epoch 80/100\n",
      "125/125 [==============================] - 2s 20ms/step - loss: 0.0494 - accuracy: 0.9825 - val_loss: 0.0590 - val_accuracy: 0.9789\n",
      "Epoch 81/100\n",
      "125/125 [==============================] - 2s 20ms/step - loss: 0.0489 - accuracy: 0.9826 - val_loss: 0.0564 - val_accuracy: 0.9800\n",
      "Epoch 82/100\n",
      "125/125 [==============================] - 2s 20ms/step - loss: 0.0479 - accuracy: 0.9829 - val_loss: 0.0561 - val_accuracy: 0.9803\n",
      "Epoch 83/100\n",
      "125/125 [==============================] - 2s 20ms/step - loss: 0.0470 - accuracy: 0.9832 - val_loss: 0.0570 - val_accuracy: 0.9795\n",
      "Epoch 84/100\n",
      "125/125 [==============================] - 2s 20ms/step - loss: 0.0461 - accuracy: 0.9834 - val_loss: 0.0530 - val_accuracy: 0.9812\n",
      "Epoch 85/100\n",
      "125/125 [==============================] - 2s 20ms/step - loss: 0.0453 - accuracy: 0.9837 - val_loss: 0.0542 - val_accuracy: 0.9808\n",
      "Epoch 86/100\n",
      "125/125 [==============================] - 2s 20ms/step - loss: 0.0447 - accuracy: 0.9838 - val_loss: 0.0510 - val_accuracy: 0.9817\n",
      "Epoch 87/100\n",
      "125/125 [==============================] - 2s 20ms/step - loss: 0.0441 - accuracy: 0.9840 - val_loss: 0.0527 - val_accuracy: 0.9812\n",
      "Epoch 88/100\n",
      "125/125 [==============================] - 2s 20ms/step - loss: 0.0434 - accuracy: 0.9842 - val_loss: 0.0493 - val_accuracy: 0.9822\n",
      "Epoch 89/100\n",
      "125/125 [==============================] - 2s 20ms/step - loss: 0.0428 - accuracy: 0.9844 - val_loss: 0.0537 - val_accuracy: 0.9808\n",
      "Epoch 90/100\n",
      "125/125 [==============================] - 2s 20ms/step - loss: 0.0424 - accuracy: 0.9845 - val_loss: 0.0646 - val_accuracy: 0.9779\n",
      "Epoch 91/100\n",
      "125/125 [==============================] - 2s 20ms/step - loss: 0.0416 - accuracy: 0.9847 - val_loss: 0.0509 - val_accuracy: 0.9818\n",
      "Epoch 92/100\n",
      "125/125 [==============================] - 2s 20ms/step - loss: 0.0411 - accuracy: 0.9849 - val_loss: 0.0519 - val_accuracy: 0.9814\n",
      "Epoch 93/100\n",
      "125/125 [==============================] - 3s 20ms/step - loss: 0.0410 - accuracy: 0.9849 - val_loss: 0.0487 - val_accuracy: 0.9825\n",
      "Epoch 94/100\n",
      "125/125 [==============================] - 2s 20ms/step - loss: 0.0402 - accuracy: 0.9852 - val_loss: 0.0494 - val_accuracy: 0.9821\n",
      "Epoch 95/100\n",
      "125/125 [==============================] - 2s 20ms/step - loss: 0.0401 - accuracy: 0.9852 - val_loss: 0.0555 - val_accuracy: 0.9800\n",
      "Epoch 96/100\n",
      "125/125 [==============================] - 2s 20ms/step - loss: 0.0395 - accuracy: 0.9854 - val_loss: 0.0553 - val_accuracy: 0.9800\n",
      "Epoch 97/100\n",
      "125/125 [==============================] - 3s 20ms/step - loss: 0.0392 - accuracy: 0.9854 - val_loss: 0.0465 - val_accuracy: 0.9830\n",
      "Epoch 98/100\n",
      "125/125 [==============================] - 2s 20ms/step - loss: 0.0385 - accuracy: 0.9857 - val_loss: 0.0476 - val_accuracy: 0.9827\n",
      "Epoch 99/100\n",
      "125/125 [==============================] - 2s 20ms/step - loss: 0.0382 - accuracy: 0.9858 - val_loss: 0.0471 - val_accuracy: 0.9828\n",
      "Epoch 100/100\n",
      "125/125 [==============================] - 2s 20ms/step - loss: 0.0377 - accuracy: 0.9859 - val_loss: 0.0466 - val_accuracy: 0.9829\n"
     ]
    }
   ],
   "source": [
    "EPOCHS = 100\n",
    "\n",
    "steps_per_epoch = 4000//BATCH_SIZE\n",
    "validation_steps = 800//BATCH_SIZE\n",
    "test_steps = 200//BATCH_SIZE\n",
    "\n",
    "\n",
    "history = model.fit(train_dataset,\n",
    "                    steps_per_epoch=steps_per_epoch, validation_data=valid_dataset, validation_steps=validation_steps, epochs=EPOCHS)"
   ]
  },
  {
   "cell_type": "markdown",
   "id": "d33467a0",
   "metadata": {
    "papermill": {
     "duration": 0.397023,
     "end_time": "2024-10-28T20:37:11.775100",
     "exception": false,
     "start_time": "2024-10-28T20:37:11.378077",
     "status": "completed"
    },
    "tags": []
   },
   "source": [
    " get the *index* of the highest probability of each of these 11 slices and combine them in a single image. We can do that by getting the `argmax`"
   ]
  },
  {
   "cell_type": "code",
   "execution_count": 25,
   "id": "5f84aad7",
   "metadata": {
    "execution": {
     "iopub.execute_input": "2024-10-28T20:37:12.630442Z",
     "iopub.status.busy": "2024-10-28T20:37:12.629954Z",
     "iopub.status.idle": "2024-10-28T20:37:13.725556Z",
     "shell.execute_reply": "2024-10-28T20:37:13.724279Z"
    },
    "papermill": {
     "duration": 1.508072,
     "end_time": "2024-10-28T20:37:13.727957",
     "exception": false,
     "start_time": "2024-10-28T20:37:12.219885",
     "status": "completed"
    },
    "tags": []
   },
   "outputs": [
    {
     "name": "stdout",
     "output_type": "stream",
     "text": [
      "6/6 [==============================] - 0s 5ms/step\n",
      "(192, 64, 84, 11)\n",
      "(192, 64, 84)\n"
     ]
    }
   ],
   "source": [
    "results = model.predict(test_dataset , steps = test_steps)\n",
    "print(results.shape)\n",
    "results = np.argmax(results, axis=3)\n",
    "print(results.shape)"
   ]
  },
  {
   "cell_type": "markdown",
   "id": "c92a2e15",
   "metadata": {
    "papermill": {
     "duration": 0.411981,
     "end_time": "2024-10-28T20:37:14.545913",
     "exception": false,
     "start_time": "2024-10-28T20:37:14.133932",
     "status": "completed"
    },
    "tags": []
   },
   "source": [
    "## IOU"
   ]
  },
  {
   "cell_type": "code",
   "execution_count": 26,
   "id": "d1030f38",
   "metadata": {
    "execution": {
     "iopub.execute_input": "2024-10-28T20:37:15.355221Z",
     "iopub.status.busy": "2024-10-28T20:37:15.354533Z",
     "iopub.status.idle": "2024-10-28T20:37:15.362352Z",
     "shell.execute_reply": "2024-10-28T20:37:15.361345Z"
    },
    "papermill": {
     "duration": 0.413949,
     "end_time": "2024-10-28T20:37:15.364456",
     "exception": false,
     "start_time": "2024-10-28T20:37:14.950507",
     "status": "completed"
    },
    "tags": []
   },
   "outputs": [],
   "source": [
    "def class_wise_metrics(y_true, y_pred):\n",
    "    class_wise_iou = []\n",
    "    class_wise_dice_score = []\n",
    "\n",
    "    smoothing_factor = 0.00001\n",
    "\n",
    "    for i in range(n_classes):\n",
    "        intersection = np.sum((y_pred == i) * (y_true == i))\n",
    "        y_true_area = np.sum((y_true == i))\n",
    "        y_pred_area = np.sum((y_pred == i))\n",
    "        combined_area = y_true_area + y_pred_area\n",
    "\n",
    "        iou = (intersection) / (combined_area - intersection + smoothing_factor)\n",
    "        class_wise_iou.append(iou)\n",
    "\n",
    "        dice_score =  2 * ((intersection) / (combined_area + smoothing_factor))\n",
    "        class_wise_dice_score.append(dice_score)\n",
    "\n",
    "    return class_wise_iou, class_wise_dice_score\n"
   ]
  },
  {
   "cell_type": "markdown",
   "id": "8cb9e625",
   "metadata": {
    "papermill": {
     "duration": 0.392356,
     "end_time": "2024-10-28T20:37:16.208846",
     "exception": false,
     "start_time": "2024-10-28T20:37:15.816490",
     "status": "completed"
    },
    "tags": []
   },
   "source": [
    "## Prediction"
   ]
  },
  {
   "cell_type": "code",
   "execution_count": 27,
   "id": "4796331e",
   "metadata": {
    "execution": {
     "iopub.execute_input": "2024-10-28T20:37:17.019198Z",
     "iopub.status.busy": "2024-10-28T20:37:17.018242Z",
     "iopub.status.idle": "2024-10-28T20:37:17.481927Z",
     "shell.execute_reply": "2024-10-28T20:37:17.480374Z"
    },
    "papermill": {
     "duration": 0.876049,
     "end_time": "2024-10-28T20:37:17.486247",
     "exception": false,
     "start_time": "2024-10-28T20:37:16.610198",
     "status": "completed"
    },
    "tags": []
   },
   "outputs": [
    {
     "data": {
      "image/png": "[encoded data removed]",
      "text/plain": [
       "<Figure size 1500x400 with 3 Axes>"
      ]
     },
     "metadata": {},
     "output_type": "display_data"
    }
   ],
   "source": [
    "integer_slider = 105\n",
    "\n",
    "ds = test_dataset.unbatch()\n",
    "ds = ds.batch(200)\n",
    "images = []\n",
    "\n",
    "y_true_segments = []\n",
    "for image, annotation in ds.take(2):\n",
    "    y_true_segments = annotation\n",
    "    images = image\n",
    "\n",
    "\n",
    "iou, dice_score = class_wise_metrics(np.argmax(y_true_segments[integer_slider], axis=2), results[integer_slider])\n",
    "show_annotation_and_prediction(image[integer_slider], annotation[integer_slider], results[integer_slider], iou, dice_score)\n"
   ]
  },
  {
   "cell_type": "code",
   "execution_count": 28,
   "id": "4eb9df2d",
   "metadata": {
    "execution": {
     "iopub.execute_input": "2024-10-28T20:37:18.374289Z",
     "iopub.status.busy": "2024-10-28T20:37:18.373316Z",
     "iopub.status.idle": "2024-10-28T20:37:18.491533Z",
     "shell.execute_reply": "2024-10-28T20:37:18.490293Z"
    },
    "papermill": {
     "duration": 0.582163,
     "end_time": "2024-10-28T20:37:18.493850",
     "exception": false,
     "start_time": "2024-10-28T20:37:17.911687",
     "status": "completed"
    },
    "tags": []
   },
   "outputs": [
    {
     "name": "stdout",
     "output_type": "stream",
     "text": [
      "Digit 0: IOU: 0.751411011223616 Dice Score: 0.8580635914794732\n",
      "Digit 1: IOU: 0.7528455269251108 Dice Score: 0.8589981437163751\n",
      "Digit 2: IOU: 0.7353888621945255 Dice Score: 0.8475205508286745\n",
      "Digit 3: IOU: 0.6992215872348505 Dice Score: 0.8229904710340884\n",
      "Digit 4: IOU: 0.6490105923465709 Dice Score: 0.7871515141973922\n",
      "Digit 5: IOU: 0.6528619104303846 Dice Score: 0.789977561114452\n",
      "Digit 6: IOU: 0.7547198526876981 Dice Score: 0.8602169189933042\n",
      "Digit 7: IOU: 0.7285170019352095 Dice Score: 0.8429387748220908\n",
      "Digit 8: IOU: 0.7058114612937715 Dice Score: 0.8275374826693324\n",
      "Digit 9: IOU: 0.6252521845574106 Dice Score: 0.7694217432818644\n"
     ]
    }
   ],
   "source": [
    "cls_wise_iou, cls_wise_dice_score = class_wise_metrics(np.argmax(y_true_segments, axis=3), results)\n",
    "\n",
    "average_iou = 0.0\n",
    "for idx, (iou, dice_score) in enumerate(zip(cls_wise_iou[:-1], cls_wise_dice_score[:-1])):\n",
    "  print(\"Digit {}: IOU: {} Dice Score: {}\".format(idx, iou, dice_score))\n",
    "  average_iou += iou\n"
   ]
  },
  {
   "cell_type": "code",
   "execution_count": null,
   "id": "bdfa87e6",
   "metadata": {
    "papermill": {
     "duration": 0.408979,
     "end_time": "2024-10-28T20:37:19.312223",
     "exception": false,
     "start_time": "2024-10-28T20:37:18.903244",
     "status": "completed"
    },
    "tags": []
   },
   "outputs": [],
   "source": []
  }
 ],
 "metadata": {
  "kaggle": {
   "accelerator": "gpu",
   "dataSources": [
    {
     "datasetId": 37151,
     "sourceId": 56512,
     "sourceType": "datasetVersion"
    }
   ],
   "dockerImageVersionId": 30786,
   "isGpuEnabled": true,
   "isInternetEnabled": true,
   "language": "python",
   "sourceType": "notebook"
  },
  "kernelspec": {
   "display_name": "Python 3",
   "language": "python",
   "name": "python3"
  },
  "language_info": {
   "codemirror_mode": {
    "name": "ipython",
    "version": 3
   },
   "file_extension": ".py",
   "mimetype": "text/x-python",
   "name": "python",
   "nbconvert_exporter": "python",
   "pygments_lexer": "ipython3",
   "version": "3.8.20"
  },
  "papermill": {
   "default_parameters": {},
   "duration": 361.055921,
   "end_time": "2024-10-28T20:37:22.420983",
   "environment_variables": {},
   "exception": null,
   "input_path": "__notebook__.ipynb",
   "output_path": "__notebook__.ipynb",
   "parameters": {},
   "start_time": "2024-10-28T20:31:21.365062",
   "version": "2.6.0"
  }
 },
 "nbformat": 4,
 "nbformat_minor": 5
}
